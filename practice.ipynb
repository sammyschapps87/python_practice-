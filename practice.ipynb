{
 "cells": [
  {
   "cell_type": "markdown",
   "metadata": {},
   "source": [
    "### finding numbers that add up to target number in a list and printing their position in the list"
   ]
  },
  {
   "cell_type": "code",
   "execution_count": 46,
   "metadata": {},
   "outputs": [
    {
     "name": "stdout",
     "output_type": "stream",
     "text": [
      "[2, 0]\n"
     ]
    }
   ],
   "source": [
    "nums = [5, 8, 4, 30]\n",
    "target = 9 \n",
    "\n",
    "list = []\n",
    "dictionary = {}\n",
    "\n",
    "for index, value in enumerate(nums):\n",
    "    dif = target - nums[index]\n",
    "\n",
    "    if dif in dictionary:\n",
    "\n",
    "        print([index, dictionary[dif]])\n",
    "    \n",
    "    dictionary[value] = index\n",
    "\n",
    "\n",
    "\n"
   ]
  },
  {
   "cell_type": "markdown",
   "metadata": {},
   "source": [
    "### removing duplicates in a list"
   ]
  },
  {
   "cell_type": "code",
   "execution_count": 48,
   "metadata": {},
   "outputs": [
    {
     "name": "stdout",
     "output_type": "stream",
     "text": [
      "[5]\n",
      "[5, 22]\n",
      "[5, 22, 2]\n",
      "[5, 22, 2, 3]\n",
      "[5, 22, 2, 3, 4]\n",
      "[5, 22, 2, 3, 4, 8]\n"
     ]
    }
   ],
   "source": [
    "list = [5,5,5,22,2,2,2,3,4,5,8]\n",
    "empty_list = []\n",
    "\n",
    "for i in list:\n",
    "    if i not in empty_list:\n",
    "        empty_list.append(i)\n",
    "        print(empty_list)"
   ]
  },
  {
   "cell_type": "code",
   "execution_count": 50,
   "metadata": {},
   "outputs": [
    {
     "name": "stdout",
     "output_type": "stream",
     "text": [
      "The reverse number is 58785\n",
      "This Number is a palindrome\n"
     ]
    }
   ],
   "source": [
    "del list\n",
    "\n",
    "num = -59927\n",
    "\n",
    "def reverse(num):\n",
    "    if num < 0:\n",
    "        numstring_neg = str(num)\n",
    "        numstring_neg = list(numstring_neg)\n",
    "        numstring_neg.reverse()\n",
    "        numstring_neg = '' .join(numstring_neg)\n",
    "        print(f'This number is negitive and therefore is not a palindrome. The reverse of this number is {numstring_neg}')\n",
    "    else: \n",
    "        numstr = str(num)\n",
    "\n",
    "\n",
    "        numstring = list(numstr)\n",
    "        numstring.reverse()\n",
    "        numstring = '' .join(numstring)\n",
    "        num_reverse = int(float(numstring))\n",
    "        print(f'The reverse number is {num_reverse}')\n",
    "        if num == num_reverse:\n",
    "            print('This Number is a palindrome')\n",
    "        else:\n",
    "            print('This number is not a palindrome')\n",
    "\n",
    "reverse(58785)"
   ]
  },
  {
   "cell_type": "code",
   "execution_count": 7,
   "metadata": {},
   "outputs": [
    {
     "name": "stdout",
     "output_type": "stream",
     "text": [
      "5\n"
     ]
    }
   ],
   "source": [
    "print(5 % 11)"
   ]
  },
  {
   "cell_type": "code",
   "execution_count": null,
   "metadata": {},
   "outputs": [],
   "source": []
  }
 ],
 "metadata": {
  "interpreter": {
   "hash": "b3ba2566441a7c06988d0923437866b63cedc61552a5af99d1f4fb67d367b25f"
  },
  "kernelspec": {
   "display_name": "Python 3.8.8 ('base')",
   "language": "python",
   "name": "python3"
  },
  "language_info": {
   "codemirror_mode": {
    "name": "ipython",
    "version": 3
   },
   "file_extension": ".py",
   "mimetype": "text/x-python",
   "name": "python",
   "nbconvert_exporter": "python",
   "pygments_lexer": "ipython3",
   "version": "3.8.8"
  },
  "orig_nbformat": 4
 },
 "nbformat": 4,
 "nbformat_minor": 2
}
