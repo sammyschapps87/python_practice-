{
 "cells": [
  {
   "cell_type": "markdown",
   "metadata": {},
   "source": [
    "### finding numbers that add up to target number in a list and printing their position in the list"
   ]
  },
  {
   "cell_type": "code",
   "execution_count": 46,
   "metadata": {},
   "outputs": [
    {
     "name": "stdout",
     "output_type": "stream",
     "text": [
      "[2, 0]\n"
     ]
    }
   ],
   "source": [
    "nums = [5, 8, 4, 30]\n",
    "target = 9 \n",
    "\n",
    "list = []\n",
    "dictionary = {}\n",
    "\n",
    "for index, value in enumerate(nums):\n",
    "    dif = target - nums[index]\n",
    "\n",
    "    if dif in dictionary:\n",
    "\n",
    "        print([index, dictionary[dif]])\n",
    "    \n",
    "    dictionary[value] = index\n",
    "\n",
    "\n",
    "\n"
   ]
  },
  {
   "cell_type": "markdown",
   "metadata": {},
   "source": [
    "### removing duplicates in a list"
   ]
  },
  {
   "cell_type": "code",
   "execution_count": 48,
   "metadata": {},
   "outputs": [
    {
     "name": "stdout",
     "output_type": "stream",
     "text": [
      "[5]\n",
      "[5, 22]\n",
      "[5, 22, 2]\n",
      "[5, 22, 2, 3]\n",
      "[5, 22, 2, 3, 4]\n",
      "[5, 22, 2, 3, 4, 8]\n"
     ]
    }
   ],
   "source": [
    "list = [5,5,5,22,2,2,2,3,4,5,8]\n",
    "empty_list = []\n",
    "\n",
    "for i in list:\n",
    "    if i not in empty_list:\n",
    "        empty_list.append(i)\n",
    "        print(empty_list)"
   ]
  },
  {
   "cell_type": "markdown",
   "metadata": {},
   "source": [
    "### Reversing a interger and stateing whether or not it is a palindrome"
   ]
  },
  {
   "cell_type": "code",
   "execution_count": 150,
   "metadata": {},
   "outputs": [
    {
     "name": "stdout",
     "output_type": "stream",
     "text": [
      "The reverse number is 58785\n",
      "This Number is a palindrome\n"
     ]
    }
   ],
   "source": [
    "\n",
    "num = -59927\n",
    "\n",
    "def reverse(num):\n",
    "    if num < 0:\n",
    "        numstring_neg = str(num)\n",
    "        numstring_neg = list(numstring_neg)\n",
    "        numstring_neg.reverse()\n",
    "        numstring_neg = '' .join(numstring_neg)\n",
    "        print(f'This number is negitive and therefore is not a palindrome. The reverse of this number is {numstring_neg}')\n",
    "    else: \n",
    "        numstr = str(num)\n",
    "\n",
    "\n",
    "        numstring = list(numstr)\n",
    "        numstring.reverse()\n",
    "        numstring = '' .join(numstring)\n",
    "        num_reverse = int(float(numstring))\n",
    "        print(f'The reverse number is {num_reverse}')\n",
    "        if num == num_reverse:\n",
    "            print('This Number is a palindrome')\n",
    "        else:\n",
    "            print('This number is not a palindrome')\n",
    "\n",
    "reverse(58785)"
   ]
  },
  {
   "cell_type": "markdown",
   "metadata": {},
   "source": [
    "### Stateing if there are duplicates"
   ]
  },
  {
   "cell_type": "code",
   "execution_count": 9,
   "metadata": {},
   "outputs": [
    {
     "name": "stdout",
     "output_type": "stream",
     "text": [
      "False\n"
     ]
    }
   ],
   "source": [
    "nums = [1,2,3,4,5,6,7,8,9]\n",
    "\n",
    "if len(set(nums)) != len(nums):\n",
    "    print('True')\n",
    "else:\n",
    "    print('False')\n"
   ]
  },
  {
   "cell_type": "markdown",
   "metadata": {},
   "source": [
    "## Finding largest possible contiguous sum in a list of numbers "
   ]
  },
  {
   "cell_type": "code",
   "execution_count": 109,
   "metadata": {},
   "outputs": [
    {
     "name": "stdout",
     "output_type": "stream",
     "text": [
      "30\n"
     ]
    }
   ],
   "source": [
    "nums = [-1, 2, 1, -4, -3, 4, 5, 6, 7, 8]\n",
    "\n",
    "def large_mean(nums):\n",
    "    lis =[]\n",
    "    large = None\n",
    "    for i in nums:\n",
    "        lis.append(i)\n",
    "        if large is None:\n",
    "            large = sum(lis)\n",
    "        elif sum(lis) > large:\n",
    "            large = sum(lis)\n",
    "\n",
    "    return large\n",
    "\n",
    "none = None\n",
    "for index, i in enumerate(nums):\n",
    "    # print(nums[index:])\n",
    "    # print(large_mean(nums[index:]))\n",
    "    # print('')\n",
    "\n",
    "    if none is None:\n",
    "        none = large_mean(nums[index:])\n",
    "    elif large_mean(nums[index:]) > none:\n",
    "        none = large_mean(nums[index:])\n",
    "\n",
    "print(none)\n",
    "\n",
    "\n",
    "    \n",
    "    \n"
   ]
  },
  {
   "cell_type": "code",
   "execution_count": 18,
   "metadata": {},
   "outputs": [
    {
     "data": {
      "text/plain": [
       "-5"
      ]
     },
     "execution_count": 18,
     "metadata": {},
     "output_type": "execute_result"
    }
   ],
   "source": []
  },
  {
   "cell_type": "code",
   "execution_count": 12,
   "metadata": {},
   "outputs": [
    {
     "name": "stdout",
     "output_type": "stream",
     "text": [
      "1\n"
     ]
    }
   ],
   "source": [
    "nums = [1, -1, 4, 7, -2, -3, 7, 4, 1]\n",
    "\n",
    "## making list of None varibles the length of nums list\n",
    "dp = [None] * len(nums)\n",
    "print(dp)\n",
    "## Setting first instance in none list equal to first instance in nums list\n",
    "dp[0] = nums[0]\n",
    "\n",
    "\n"
   ]
  },
  {
   "cell_type": "code",
   "execution_count": 118,
   "metadata": {},
   "outputs": [
    {
     "name": "stdout",
     "output_type": "stream",
     "text": [
      "[1, 2, 1, 1, 2, 1]\n"
     ]
    }
   ],
   "source": [
    "nums = [1,2,1]\n",
    "lis = []\n",
    "for i in nums:\n",
    "    lis.append(i)\n",
    "\n",
    "new_list = lis + lis\n",
    "print(new_list)"
   ]
  },
  {
   "cell_type": "code",
   "execution_count": null,
   "metadata": {},
   "outputs": [],
   "source": [
    "## BACK BURNER "
   ]
  },
  {
   "cell_type": "code",
   "execution_count": 148,
   "metadata": {},
   "outputs": [
    {
     "name": "stdout",
     "output_type": "stream",
     "text": [
      "not a triplet\n",
      "[0, 1, 1]\n",
      "not a triplet\n",
      "not a triplet\n"
     ]
    }
   ],
   "source": [
    "arr = [3, 0, 1, 1, 9, 7]\n",
    "a = 7\n",
    "b = 2\n",
    "c = 3\n",
    "\n",
    "new_list = []\n",
    "\n",
    "for i in arr:\n",
    "    if i < len(arr):\n",
    "        new_list.append(i)\n",
    "        \n",
    "  \n",
    "for index, i in enumerate(new_list):\n",
    "    if len(new_list[index:]) != 3:\n",
    "        print('not a triplet')\n",
    "    else:\n",
    "        print(new_list[index:])\n",
    "        \n"
   ]
  },
  {
   "cell_type": "markdown",
   "metadata": {},
   "source": [
    "## Roman Numerial "
   ]
  },
  {
   "cell_type": "code",
   "execution_count": 218,
   "metadata": {},
   "outputs": [
    {
     "name": "stdout",
     "output_type": "stream",
     "text": [
      "[4, 5]\n"
     ]
    },
    {
     "data": {
      "text/plain": [
       "9"
      ]
     },
     "execution_count": 218,
     "metadata": {},
     "output_type": "execute_result"
    }
   ],
   "source": [
    "\n",
    "arr = {'I': 1, \"V\": 5, 'X': 10, 'L': 50, 'C': 100, 'D': 500, 'M': 1000}\n",
    "s = 'IV'\n",
    "lis = []\n",
    "\n",
    "def romanToInt(s: str) -> int:\n",
    "    for index, c in enumerate(s):    \n",
    "        next_count = index + 1\n",
    "        if next_count < len(s):\n",
    "            next = s[next_count]\n",
    "            if next == 'V' and c == 'I':\n",
    "                 lis.append(4)\n",
    "            elif next == 'X' and c == 'I':\n",
    "                lis.append(9)\n",
    "            elif next == 'L' and c == 'X':\n",
    "                lis.append(40)\n",
    "            elif next == 'C' and c =='X':\n",
    "                lis.append(90)\n",
    "            elif next == 'D' and c == 'C':\n",
    "                lis.append(400)\n",
    "            elif next == 'M' and c =='C':\n",
    "                lis.append(900)\n",
    "            else:\n",
    "                lis.append(arr[c])\n",
    "        else: \n",
    "            lis.append(arr[c])\n",
    "    \n",
    "    print(lis)\n",
    "\n",
    "    return sum(lis)\n",
    "\n",
    "romanToInt(s)"
   ]
  },
  {
   "cell_type": "markdown",
   "metadata": {},
   "source": [
    "## Roman Numerial"
   ]
  },
  {
   "cell_type": "code",
   "execution_count": 232,
   "metadata": {},
   "outputs": [
    {
     "data": {
      "text/plain": [
       "537"
      ]
     },
     "execution_count": 232,
     "metadata": {},
     "output_type": "execute_result"
    }
   ],
   "source": [
    "arr = {'I': 1, \"V\": 5, 'X': 10, 'L': 50, 'C': 100, 'D': 500, 'M': 1000}\n",
    "s = 'IXV'\n",
    "lis = []\n",
    "def romanToInt(s: str) -> int:\n",
    "    index = 0\n",
    "    while index < len(s):\n",
    "        next_count = index + 1\n",
    "        c = s[index]\n",
    "        if next_count < len(s):\n",
    "            next = s[next_count]\n",
    "            if next == 'V' and c == 'I':\n",
    "                lis.append(4)\n",
    "                index += 2\n",
    "            elif next == 'X' and c == 'I':\n",
    "                lis.append(9)\n",
    "                index += 2\n",
    "            elif next == 'L' and c == 'X':\n",
    "                lis.append(40)\n",
    "                index += 2\n",
    "            elif next == 'C' and c =='X':\n",
    "                lis.append(90)\n",
    "                index += 2\n",
    "            elif next == 'D' and c == 'C':\n",
    "                lis.append(400)\n",
    "                index += 2\n",
    "            elif next == 'M' and c =='C':\n",
    "                lis.append(900)\n",
    "                index += 2\n",
    "            else:\n",
    "                index = index + 1\n",
    "                lis.append(arr[c])\n",
    "        else: \n",
    "            lis.append(arr[c])\n",
    "            index = index + 1\n",
    "            \n",
    "    return(sum(lis))\n",
    "romanToInt('DXXXVII')"
   ]
  },
  {
   "cell_type": "markdown",
   "metadata": {},
   "source": [
    "## "
   ]
  },
  {
   "cell_type": "markdown",
   "metadata": {},
   "source": [
    "## Parentheses Problem"
   ]
  },
  {
   "cell_type": "code",
   "execution_count": 51,
   "metadata": {},
   "outputs": [
    {
     "name": "stdout",
     "output_type": "stream",
     "text": [
      "false\n"
     ]
    }
   ],
   "source": [
    "s = '{[([    ])]}'\n",
    "list = []\n",
    "def isValid( s: str) -> bool:\n",
    "    count = 0\n",
    "    n_count = 1\n",
    "    while n_count < len(s):\n",
    "        if s[count] == s[n_count]:\n",
    "            print('false')\n",
    "        elif s[count] != s[n_count]:\n",
    "            if s[count] == '(' and s[n_count] == ')':\n",
    "               list.append('true')\n",
    "            elif s[count] == '[' and s[n_count] == ']':\n",
    "                list.append('true')\n",
    "            elif s[count] == '{' and s[n_count] == '}':\n",
    "                list.append('true')\n",
    "            else:\n",
    "                list.append('false')\n",
    "        count = count + 1\n",
    "        n_count = n_count + 1     \n",
    "            \n",
    "    return list\n",
    "\n",
    "\n",
    "if isValid(s) == ['true', 'false', 'true', 'false', 'true']:\n",
    "    print('true')\n",
    "elif list == ['true', 'false', 'true']:\n",
    "    print('true')\n",
    "elif list == ['true']:\n",
    "    print('true')\n",
    "else:\n",
    "    print('false')\n"
   ]
  },
  {
   "cell_type": "code",
   "execution_count": 113,
   "metadata": {},
   "outputs": [
    {
     "data": {
      "text/plain": [
       "False"
      ]
     },
     "execution_count": 113,
     "metadata": {},
     "output_type": "execute_result"
    }
   ],
   "source": [
    "s = '()'\n",
    "def is_equal(s):\n",
    "    first_half = []\n",
    "    second_half = []\n",
    "    count = 0\n",
    "    for i in s:\n",
    "        if (len(s) % 2) == 0:     \n",
    "            count += 1   \n",
    "            if count <= len(s) / 2:\n",
    "                first_half.append(i)\n",
    "            elif count >= len(s) / 2:\n",
    "                second_half.append(i)\n",
    "\n",
    "        else:\n",
    "            return False\n",
    "\n",
    "    new_count = len(second_half) - 1\n",
    "    for m in first_half:\n",
    "        if m == '{' and second_half[new_count] == '}':\n",
    "            new_count -= 1\n",
    "        elif m == '[' and second_half[new_count] == ']':\n",
    "            new_count -= 1\n",
    "        elif m == '(' and second_half[new_count] == ')':\n",
    "            new_count -= 1\n",
    "        \n",
    "\n",
    "\n",
    "        else:\n",
    "            return False\n",
    "\n",
    "    return True\n",
    "\n",
    "is_equal(s)\n",
    "\n",
    "\n",
    "\n"
   ]
  },
  {
   "cell_type": "code",
   "execution_count": 96,
   "metadata": {},
   "outputs": [
    {
     "name": "stdout",
     "output_type": "stream",
     "text": [
      "['}', '}', ']']\n",
      "['[', '{', '{']\n"
     ]
    }
   ],
   "source": [
    "print(second_half)\n",
    "print(first_half)"
   ]
  },
  {
   "cell_type": "markdown",
   "metadata": {},
   "source": [
    "## assending list addition "
   ]
  },
  {
   "cell_type": "code",
   "execution_count": 23,
   "metadata": {},
   "outputs": [
    {
     "name": "stdout",
     "output_type": "stream",
     "text": [
      "[1, 3, 6, 10]\n"
     ]
    }
   ],
   "source": [
    "nums = [1,2,3,4]\n",
    "count = 0 \n",
    "next_count = 1\n",
    "new_list = [nums[0]]\n",
    "for i in range(len(nums)):\n",
    "\n",
    "    if i != 0: \n",
    "\n",
    "        new_list.append(nums[i] + new_list[i - 1])\n",
    "\n",
    "    next_count += 1\n",
    "    count += 1\n",
    "\n",
    "print(new_list)"
   ]
  },
  {
   "cell_type": "code",
   "execution_count": 48,
   "metadata": {},
   "outputs": [],
   "source": [
    "list1 = [1,4,6,8]\n",
    "list2 = [2,9,4,3]\n",
    "\n",
    "list_3 = list1 + list2\n",
    "\n",
    "list_3.sort()\n",
    "    \n",
    "print(list_3)\n",
    "\n",
    "\n",
    "\n"
   ]
  },
  {
   "cell_type": "code",
   "execution_count": 47,
   "metadata": {},
   "outputs": [
    {
     "data": {
      "text/plain": [
       "[1, 2, 3, 4, 4, 6, 8, 9]"
      ]
     },
     "execution_count": 47,
     "metadata": {},
     "output_type": "execute_result"
    }
   ],
   "source": []
  },
  {
   "cell_type": "code",
   "execution_count": null,
   "metadata": {},
   "outputs": [],
   "source": []
  }
 ],
 "metadata": {
  "interpreter": {
   "hash": "b3ba2566441a7c06988d0923437866b63cedc61552a5af99d1f4fb67d367b25f"
  },
  "kernelspec": {
   "display_name": "Python 3.8.8 ('base')",
   "language": "python",
   "name": "python3"
  },
  "language_info": {
   "codemirror_mode": {
    "name": "ipython",
    "version": 3
   },
   "file_extension": ".py",
   "mimetype": "text/x-python",
   "name": "python",
   "nbconvert_exporter": "python",
   "pygments_lexer": "ipython3",
   "version": "3.8.8"
  },
  "orig_nbformat": 4
 },
 "nbformat": 4,
 "nbformat_minor": 2
}
